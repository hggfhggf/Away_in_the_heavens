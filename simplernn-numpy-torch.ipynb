{
 "cells": [
  {
   "cell_type": "code",
   "execution_count": 1,
   "id": "a174ee55",
   "metadata": {
    "_cell_guid": "b1076dfc-b9ad-4769-8c92-a6c4dae69d19",
    "_uuid": "8f2839f25d086af736a60e9eeb907d3b93b6e0e5",
    "execution": {
     "iopub.execute_input": "2025-06-24T07:47:13.925877Z",
     "iopub.status.busy": "2025-06-24T07:47:13.925558Z",
     "iopub.status.idle": "2025-06-24T07:47:15.870687Z",
     "shell.execute_reply": "2025-06-24T07:47:15.869695Z"
    },
    "papermill": {
     "duration": 1.950601,
     "end_time": "2025-06-24T07:47:15.872600",
     "exception": false,
     "start_time": "2025-06-24T07:47:13.921999",
     "status": "completed"
    },
    "tags": []
   },
   "outputs": [],
   "source": [
    "# This Python 3 environment comes with many helpful analytics libraries installed\n",
    "# It is defined by the kaggle/python Docker image: https://github.com/kaggle/docker-python\n",
    "# For example, here's several helpful packages to load\n",
    "\n",
    "import numpy as np # linear algebra\n",
    "import pandas as pd # data processing, CSV file I/O (e.g. pd.read_csv)\n",
    "\n",
    "# Input data files are available in the read-only \"../input/\" directory\n",
    "# For example, running this (by clicking run or pressing Shift+Enter) will list all files under the input directory\n",
    "\n",
    "import os\n",
    "for dirname, _, filenames in os.walk('/kaggle/input'):\n",
    "    for filename in filenames:\n",
    "        print(os.path.join(dirname, filename))\n",
    "\n",
    "# You can write up to 20GB to the current directory (/kaggle/working/) that gets preserved as output when you create a version using \"Save & Run All\" \n",
    "# You can also write temporary files to /kaggle/temp/, but they won't be saved outside of the current session"
   ]
  },
  {
   "cell_type": "code",
   "execution_count": 2,
   "id": "b6b1236d",
   "metadata": {
    "execution": {
     "iopub.execute_input": "2025-06-24T07:47:15.877602Z",
     "iopub.status.busy": "2025-06-24T07:47:15.877217Z",
     "iopub.status.idle": "2025-06-24T07:47:15.899380Z",
     "shell.execute_reply": "2025-06-24T07:47:15.898363Z"
    },
    "papermill": {
     "duration": 0.026342,
     "end_time": "2025-06-24T07:47:15.900988",
     "exception": false,
     "start_time": "2025-06-24T07:47:15.874646",
     "status": "completed"
    },
    "tags": []
   },
   "outputs": [
    {
     "name": "stdout",
     "output_type": "stream",
     "text": [
      "x [[0.34554915]\n",
      " [0.36381678]\n",
      " [0.81145222]\n",
      " [0.60840953]]\n",
      "output_layer [[5.59206609]\n",
      " [4.47706385]]\n",
      "x [[0.7759981 ]\n",
      " [0.00952888]\n",
      " [0.74435309]\n",
      " [0.44710001]]\n",
      "output_layer [[5.14035864]\n",
      " [4.15925734]]\n",
      "x [[0.3107569 ]\n",
      " [0.63399176]\n",
      " [0.67058686]\n",
      " [0.50170327]]\n",
      "output_layer [[5.48167875]\n",
      " [4.41250763]]\n",
      "x [[0.67223345]\n",
      " [0.51543577]\n",
      " [0.09430638]\n",
      " [0.68709271]]\n",
      "output_layer [[4.67273745]\n",
      " [3.78346398]]\n",
      "x [[0.12953801]\n",
      " [0.01798094]\n",
      " [0.61647337]\n",
      " [0.21510829]]\n",
      "output_layer [[3.66244999]\n",
      " [2.92614306]]\n"
     ]
    }
   ],
   "source": [
    "seq_len = 5\n",
    "\n",
    "input_len = 4\n",
    "hidden1_len = 3\n",
    "hidden2_len = 3\n",
    "output_len = 2\n",
    "\n",
    "W_input_hidden = np.random.rand(hidden1_len, input_len)\n",
    "W_hidden_hidden = np.random.rand(hidden2_len, hidden1_len)\n",
    "W_hidden_output = np.random.rand(output_len, hidden2_len)\n",
    "\n",
    "bh1 = np.zeros((hidden1_len, 1))\n",
    "bh2 = np.zeros((hidden2_len, 1))\n",
    "bh3 = np.zeros((output_len, 1))\n",
    "bo = np.zeros((output_len, 1))\n",
    "\n",
    "input_layer = [np.random.rand(input_len, 1) for i in range(seq_len)]\n",
    "\n",
    "for x in input_layer:\n",
    "    print(\"x\", x)\n",
    "    hidden1_layer = np.dot(W_input_hidden, x) + bh1 + np.tanh(np.dot(W_input_hidden, x) + bh1)\n",
    "    hidden2_layer = np.dot(W_hidden_hidden, hidden1_layer) + bh2 + np.tanh(np.dot(W_hidden_hidden, hidden1_layer))\n",
    "    output_layer = np.dot(W_hidden_output, hidden2_layer) + bh3\n",
    "\n",
    "    print('output_layer', output_layer)\n",
    "\n",
    "\n"
   ]
  },
  {
   "cell_type": "code",
   "execution_count": 3,
   "id": "f1d57a9a",
   "metadata": {
    "execution": {
     "iopub.execute_input": "2025-06-24T07:47:15.906001Z",
     "iopub.status.busy": "2025-06-24T07:47:15.905655Z",
     "iopub.status.idle": "2025-06-24T07:47:20.881841Z",
     "shell.execute_reply": "2025-06-24T07:47:20.880496Z"
    },
    "papermill": {
     "duration": 4.980574,
     "end_time": "2025-06-24T07:47:20.883493",
     "exception": true,
     "start_time": "2025-06-24T07:47:15.902919",
     "status": "failed"
    },
    "tags": []
   },
   "outputs": [
    {
     "ename": "NameError",
     "evalue": "name 'MyRNN' is not defined",
     "output_type": "error",
     "traceback": [
      "\u001b[0;31m---------------------------------------------------------------------------\u001b[0m",
      "\u001b[0;31mNameError\u001b[0m                                 Traceback (most recent call last)",
      "\u001b[0;32m/tmp/ipykernel_13/608376299.py\u001b[0m in \u001b[0;36m<cell line: 0>\u001b[0;34m()\u001b[0m\n\u001b[1;32m     19\u001b[0m         \u001b[0;32mreturn\u001b[0m \u001b[0moutput\u001b[0m\u001b[0;34m,\u001b[0m \u001b[0;34m(\u001b[0m\u001b[0mhidden\u001b[0m\u001b[0;34m,\u001b[0m \u001b[0mc\u001b[0m\u001b[0;34m)\u001b[0m\u001b[0;34m\u001b[0m\u001b[0;34m\u001b[0m\u001b[0m\n\u001b[1;32m     20\u001b[0m \u001b[0;34m\u001b[0m\u001b[0m\n\u001b[0;32m---> 21\u001b[0;31m \u001b[0mmodel\u001b[0m \u001b[0;34m=\u001b[0m \u001b[0mMyRNN\u001b[0m\u001b[0;34m(\u001b[0m\u001b[0;34m)\u001b[0m\u001b[0;34m\u001b[0m\u001b[0;34m\u001b[0m\u001b[0m\n\u001b[0m\u001b[1;32m     22\u001b[0m \u001b[0mcr\u001b[0m \u001b[0;34m=\u001b[0m \u001b[0mnn\u001b[0m\u001b[0;34m.\u001b[0m\u001b[0mCrossEntropyLoss\u001b[0m\u001b[0;34m(\u001b[0m\u001b[0;34m)\u001b[0m\u001b[0;34m\u001b[0m\u001b[0;34m\u001b[0m\u001b[0m\n\u001b[1;32m     23\u001b[0m \u001b[0moptimizer\u001b[0m \u001b[0;34m=\u001b[0m \u001b[0mtorch\u001b[0m\u001b[0;34m.\u001b[0m\u001b[0moptim\u001b[0m\u001b[0;34m.\u001b[0m\u001b[0mAdam\u001b[0m\u001b[0;34m(\u001b[0m\u001b[0mmodel\u001b[0m\u001b[0;34m.\u001b[0m\u001b[0mparameters\u001b[0m\u001b[0;34m(\u001b[0m\u001b[0;34m)\u001b[0m\u001b[0;34m)\u001b[0m\u001b[0;34m\u001b[0m\u001b[0;34m\u001b[0m\u001b[0m\n",
      "\u001b[0;31mNameError\u001b[0m: name 'MyRNN' is not defined"
     ]
    }
   ],
   "source": [
    "import torch\n",
    "import torch.nn as nn\n",
    "\n",
    "seq_len = 5\n",
    "\n",
    "input_size = 4\n",
    "hidden_size = 3\n",
    "num_layers = 1\n",
    "output_size = 2\n",
    "\n",
    "class MyLSTM(nn.Module):\n",
    "    def __init__(self):\n",
    "        super().__init__()\n",
    "        self.lstm = nn.LSTM(input_size, hidden_size, num_layers, batch_first = True)\n",
    "        self.fc = nn.Linear(hidden_size, output_size)\n",
    "    def forward(self, x, hidden):\n",
    "        output, (hidden, c) = self.lstm(x, hidden)\n",
    "        output = self.fc(output)\n",
    "        return output, (hidden, c)\n",
    "\n",
    "model = MyRNN()\n",
    "cr = nn.CrossEntropyLoss()\n",
    "optimizer = torch.optim.Adam(model.parameters())\n",
    "\n",
    "input_data = torch.randn(1, seq_len, input_size)\n",
    "target_data = torch.randn(1, seq_len, output_size)\n",
    "\n",
    "hidden = torch.zeros(1, 1, hidden_size)\n",
    "c = torch.zeros(1, 1, hidden_size)\n",
    "\n",
    "epochs = 100\n",
    "for epoch in range(epochs):\n",
    "    optimizer.zero_grad()\n",
    "    output, (hidden, c) = model(input_data, (hidden.detach(), c.detach()))\n",
    "    loss = cr(output, target_data)\n",
    "    loss.backward()\n",
    "    optimizer.step()\n",
    "    if epoch % 10 == 0:\n",
    "        print(epoch, \":\", loss.item())\n"
   ]
  }
 ],
 "metadata": {
  "kaggle": {
   "accelerator": "none",
   "dataSources": [],
   "dockerImageVersionId": 31012,
   "isGpuEnabled": false,
   "isInternetEnabled": true,
   "language": "python",
   "sourceType": "notebook"
  },
  "kernelspec": {
   "display_name": "Python 3",
   "language": "python",
   "name": "python3"
  },
  "language_info": {
   "codemirror_mode": {
    "name": "ipython",
    "version": 3
   },
   "file_extension": ".py",
   "mimetype": "text/x-python",
   "name": "python",
   "nbconvert_exporter": "python",
   "pygments_lexer": "ipython3",
   "version": "3.11.11"
  },
  "papermill": {
   "default_parameters": {},
   "duration": 14.664044,
   "end_time": "2025-06-24T07:47:23.164411",
   "environment_variables": {},
   "exception": true,
   "input_path": "__notebook__.ipynb",
   "output_path": "__notebook__.ipynb",
   "parameters": {},
   "start_time": "2025-06-24T07:47:08.500367",
   "version": "2.6.0"
  }
 },
 "nbformat": 4,
 "nbformat_minor": 5
}
