{
 "cells": [
  {
   "cell_type": "markdown",
   "id": "9a122547",
   "metadata": {},
   "source": [
    "# Kaggle Baseline Templates\n",
    "*Generated 2025-05-04T16:13:27.453683 UTC*"
   ]
  },
  {
   "cell_type": "code",
   "execution_count": null,
   "id": "daf750f8",
   "metadata": {},
   "outputs": [],
   "source": [
    "import os, random, json, math, gc, time, warnings, itertools, pathlib, collections\n",
    "import numpy as np, pandas as pd\n",
    "import torch, torch.nn as nn, torch.optim as optim\n",
    "warnings.filterwarnings('ignore')\n",
    "\n",
    "def set_seed(seed: int = 42):\n",
    "    random.seed(seed)\n",
    "    np.random.seed(seed)\n",
    "    torch.manual_seed(seed)\n",
    "    torch.cuda.manual_seed_all(seed)\n",
    "    torch.backends.cudnn.deterministic = True\n",
    "    torch.backends.cudnn.benchmark = False\n",
    "\n",
    "set_seed()\n"
   ]
  },
  {
   "cell_type": "markdown",
   "id": "a76a1bdb",
   "metadata": {},
   "source": [
    "## Tabular ML (LightGBM/XGBoost)"
   ]
  },
  {
   "cell_type": "code",
   "execution_count": null,
   "id": "950a17a6",
   "metadata": {},
   "outputs": [],
   "source": [
    "import lightgbm as lgb\n",
    "from sklearn.model_selection import StratifiedKFold\n",
    "from sklearn.metrics import roc_auc_score\n",
    "\n",
    "TRAIN_CSV = 'train.csv'          # path\n",
    "TEST_CSV  = 'test.csv'\n",
    "TARGET = 'target'                # column name\n",
    "\n",
    "train = pd.read_csv(TRAIN_CSV)\n",
    "test  = pd.read_csv(TEST_CSV)\n",
    "\n",
    "X = train.drop(columns=[TARGET])\n",
    "y = train[TARGET].values\n",
    "oof = np.zeros(len(train))\n",
    "preds = np.zeros(len(test))\n",
    "\n",
    "kf = StratifiedKFold(n_splits=5, shuffle=True, random_state=42)\n",
    "for fold, (tr_idx, va_idx) in enumerate(kf.split(X, y)):\n",
    "    X_tr, X_va = X.iloc[tr_idx], X.iloc[va_idx]\n",
    "    y_tr, y_va = y[tr_idx], y[va_idx]\n",
    "    \n",
    "    model = lgb.LGBMClassifier(\n",
    "        n_estimators=1000,\n",
    "        learning_rate=0.02,\n",
    "        objective='binary',\n",
    "        n_jobs=-1,\n",
    "        random_state=fold\n",
    "    )\n",
    "    model.fit(X_tr, y_tr,\n",
    "              eval_set=[(X_va, y_va)],\n",
    "              eval_metric='auc',\n",
    "              callbacks=[lgb.early_stopping(50, verbose=False)]\n",
    "             )\n",
    "    oof[va_idx] = model.predict_proba(X_va)[:,1]\n",
    "    preds += model.predict_proba(test)[:,1] / kf.n_splits\n",
    "\n",
    "print('CV AUC:', roc_auc_score(y, oof))\n",
    "sub = pd.DataFrame({'id': test['id'], 'target': preds})\n",
    "sub.to_csv('submission_lgb.csv', index=False)\n"
   ]
  },
  {
   "cell_type": "markdown",
   "id": "35f110ef",
   "metadata": {},
   "source": [
    "## Computer Vision (PyTorch)"
   ]
  },
  {
   "cell_type": "code",
   "execution_count": null,
   "id": "4360432e",
   "metadata": {},
   "outputs": [],
   "source": [
    "from torchvision import datasets, transforms, models\n",
    "from torch.utils.data import DataLoader\n",
    "\n",
    "DATA_DIR = 'images/'      # train dir with subfolders per class\n",
    "BATCH_SIZE = 32\n",
    "NUM_CLASSES = 10\n",
    "\n",
    "transform = transforms.Compose([\n",
    "    transforms.Resize(256),\n",
    "    transforms.CenterCrop(224),\n",
    "    transforms.ToTensor(),\n",
    "])\n",
    "\n",
    "train_ds = datasets.ImageFolder(DATA_DIR, transform=transform)\n",
    "train_dl = DataLoader(train_ds, batch_size=BATCH_SIZE, shuffle=True, num_workers=4)\n",
    "\n",
    "device = torch.device('cuda' if torch.cuda.is_available() else 'cpu')\n",
    "model = models.resnet18(weights='DEFAULT')\n",
    "model.fc = nn.Linear(model.fc.in_features, NUM_CLASSES)\n",
    "model = model.to(device)\n",
    "\n",
    "criterion = nn.CrossEntropyLoss()\n",
    "optimizer = optim.Adam(model.parameters(), lr=1e-3)\n",
    "\n",
    "for epoch in range(3):  # few epochs for template\n",
    "    model.train()\n",
    "    for imgs, labels in train_dl:\n",
    "        imgs, labels = imgs.to(device), labels.to(device)\n",
    "        optimizer.zero_grad()\n",
    "        outputs = model(imgs)\n",
    "        loss = criterion(outputs, labels)\n",
    "        loss.backward()\n",
    "        optimizer.step()\n",
    "    print(f'Epoch {epoch+1} done')\n",
    "torch.save(model.state_dict(), 'model_cv.pth')\n"
   ]
  },
  {
   "cell_type": "markdown",
   "id": "0d9a4d29",
   "metadata": {},
   "source": [
    "## NLP (HuggingFace Transformers)"
   ]
  },
  {
   "cell_type": "code",
   "execution_count": null,
   "id": "cff64081",
   "metadata": {},
   "outputs": [],
   "source": [
    "from datasets import load_dataset\n",
    "from transformers import AutoTokenizer, AutoModelForSequenceClassification, TrainingArguments, Trainer\n",
    "\n",
    "MODEL_NAME = 'distilbert-base-uncased'\n",
    "dataset = load_dataset('imdb')  # placeholder dataset\n",
    "\n",
    "tokenizer = AutoTokenizer.from_pretrained(MODEL_NAME)\n",
    "\n",
    "def preprocess(examples):\n",
    "    return tokenizer(examples['text'], truncation=True, padding='max_length', max_length=256)\n",
    "\n",
    "encoded = dataset.map(preprocess, batched=True)\n",
    "encoded = encoded.remove_columns(['text'])\n",
    "encoded.set_format('torch')\n",
    "\n",
    "model = AutoModelForSequenceClassification.from_pretrained(MODEL_NAME, num_labels=2)\n",
    "\n",
    "args = TrainingArguments(\n",
    "    output_dir='./results',\n",
    "    learning_rate=2e-5,\n",
    "    per_device_train_batch_size=8,\n",
    "    per_device_eval_batch_size=8,\n",
    "    num_train_epochs=1,\n",
    "    weight_decay=0.01,\n",
    "    evaluation_strategy='epoch',\n",
    ")\n",
    "\n",
    "trainer = Trainer(\n",
    "    model=model,\n",
    "    args=args,\n",
    "    train_dataset=encoded['train'].shuffle(seed=42).select(range(1000)),  # subset for speed\n",
    "    eval_dataset=encoded['test'].shuffle(seed=42).select(range(1000)),\n",
    ")\n",
    "\n",
    "trainer.train()\n",
    "trainer.save_model('model_nlp')\n"
   ]
  },
  {
   "cell_type": "markdown",
   "id": "4847ff1b",
   "metadata": {},
   "source": [
    "## Simple Ensemble Example"
   ]
  },
  {
   "cell_type": "code",
   "execution_count": null,
   "id": "59915853",
   "metadata": {},
   "outputs": [],
   "source": [
    "import glob\n",
    "\n",
    "subs = []\n",
    "for path in glob.glob('submission_*.csv'):\n",
    "    subs.append(pd.read_csv(path)['target'].values)\n",
    "final = np.mean(subs, axis=0)\n",
    "final_sub = pd.read_csv('sample_submission.csv')\n",
    "final_sub['target'] = final\n",
    "final_sub.to_csv('submission_ensemble.csv', index=False)\n"
   ]
  }
 ],
 "metadata": {},
 "nbformat": 4,
 "nbformat_minor": 5
}
